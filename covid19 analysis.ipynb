{
 "cells": [
  {
   "cell_type": "code",
   "execution_count": null,
   "metadata": {},
   "outputs": [],
   "source": [
    "import numpy as np\n",
    "import pandas as pd\n",
    "import matplotlib.pyplot as plt\n",
    "import seaborn as sns\n",
    "import os"
   ]
  },
  {
   "cell_type": "code",
   "execution_count": null,
   "metadata": {},
   "outputs": [],
   "source": [
    "files=os.listdir('C:/Users/vedant kathe/Downloads/Covid-19')\n",
    "files"
   ]
  },
  {
   "cell_type": "code",
   "execution_count": null,
   "metadata": {},
   "outputs": [],
   "source": [
    "path='C:/Users/vedant kathe/Downloads/Covid-19'\n",
    "def read_data(myfile):\n",
    "    mydf=pd.read_csv(path+'/'+myfile)\n",
    "    return mydf       "
   ]
  },
  {
   "cell_type": "code",
   "execution_count": null,
   "metadata": {},
   "outputs": [],
   "source": [
    "country_latest_df=read_data(files[0]) \n",
    "covid_clean_df=read_data(files[1]) \n",
    "day_wise_df=read_data(files[2])\n",
    "group_data=read_data(files[3])\n",
    "us_df=read_data(files[4])\n",
    "worldometer_df=read_data(files[5])"
   ]
  },
  {
   "cell_type": "code",
   "execution_count": null,
   "metadata": {},
   "outputs": [],
   "source": []
  },
  {
   "cell_type": "code",
   "execution_count": null,
   "metadata": {},
   "outputs": [],
   "source": [
    "worldometer_df.head()"
   ]
  },
  {
   "cell_type": "code",
   "execution_count": null,
   "metadata": {},
   "outputs": [],
   "source": [
    "worldometer_df.columns"
   ]
  },
  {
   "cell_type": "code",
   "execution_count": null,
   "metadata": {},
   "outputs": [],
   "source": [
    "import plotly.express as px"
   ]
  },
  {
   "cell_type": "code",
   "execution_count": null,
   "metadata": {},
   "outputs": [],
   "source": [
    "columns=['TotalCases','TotalDeaths','TotalRecovered','ActiveCases']\n",
    "for i in columns:\n",
    "    fig=px.treemap(worldometer_df.iloc[0:20],values=i,path=['Country/Region'],title='Treemap for {}'.format(i))\n",
    "    fig.show()    "
   ]
  },
  {
   "cell_type": "code",
   "execution_count": null,
   "metadata": {},
   "outputs": [],
   "source": [
    "day_wise_df.columns"
   ]
  },
  {
   "cell_type": "code",
   "execution_count": null,
   "metadata": {},
   "outputs": [],
   "source": [
    "pip install pip --upgrade"
   ]
  },
  {
   "cell_type": "code",
   "execution_count": null,
   "metadata": {},
   "outputs": [],
   "source": [
    "px.line(day_wise_df,x='Date',y=['Date', 'Confirmed', 'Deaths', 'Recovered', 'Active'],title='Covid cases wrt date',template='plotly_dark')"
   ]
  },
  {
   "cell_type": "code",
   "execution_count": null,
   "metadata": {},
   "outputs": [],
   "source": [
    "worldometer_df.head()"
   ]
  },
  {
   "cell_type": "code",
   "execution_count": null,
   "metadata": {},
   "outputs": [],
   "source": [
    "population_test_ratio=worldometer_df['Population']/worldometer_df['TotalTests'].iloc[:20]"
   ]
  },
  {
   "cell_type": "code",
   "execution_count": null,
   "metadata": {},
   "outputs": [],
   "source": [
    "fig=px.bar(worldometer_df.iloc[:20],x='Country/Region',y=population_test_ratio[:20],title='Population to test done ratio')\n",
    "fig.show()"
   ]
  },
  {
   "cell_type": "code",
   "execution_count": null,
   "metadata": {},
   "outputs": [],
   "source": [
    "fig=px.bar(worldometer_df.iloc[:20],x='Country/Region',y=['TotalRecovered','ActiveCases', 'Serious,Critical','TotalDeaths','TotalCases'])\n",
    "fig.show()"
   ]
  },
  {
   "cell_type": "code",
   "execution_count": null,
   "metadata": {},
   "outputs": [],
   "source": [
    "fig=px.bar(worldometer_df.iloc[:20],y='Country/Region',x='TotalCases',color='TotalCases',text='TotalCases')\n",
    "fig.update_layout(template='plotly_dark',title_text='Top 20 Countries of total comfirmed cases')\n",
    "fig.show()"
   ]
  },
  {
   "cell_type": "code",
   "execution_count": null,
   "metadata": {},
   "outputs": [],
   "source": [
    "worldometer_df.sort_values(by='TotalDeaths',ascending=False)"
   ]
  },
  {
   "cell_type": "code",
   "execution_count": null,
   "metadata": {},
   "outputs": [],
   "source": [
    "fig=px.bar(worldometer_df.sort_values(by='TotalDeaths',ascending=False)[:20],y='Country/Region',x='TotalDeaths',color='TotalDeaths',text='TotalDeaths')\n",
    "fig.update_layout(template='plotly_dark',title_text='Top 20 Countries of total deaths cases')\n",
    "fig.show()"
   ]
  },
  {
   "cell_type": "code",
   "execution_count": null,
   "metadata": {},
   "outputs": [],
   "source": [
    "fig=px.bar(worldometer_df.sort_values(by='ActiveCases',ascending=False)[:20],y='Country/Region',x='ActiveCases',color='ActiveCases',text='ActiveCases')\n",
    "fig.update_layout(template='plotly_dark',title_text='Top 20 Countries of total Active cases')\n",
    "fig.show()"
   ]
  },
  {
   "cell_type": "code",
   "execution_count": null,
   "metadata": {},
   "outputs": [],
   "source": [
    "fig=px.bar(worldometer_df.sort_values(by='TotalRecovered',ascending=False)[:20],y='Country/Region',x='TotalRecovered',color='TotalRecovered',text='TotalRecovered')\n",
    "fig.update_layout(template='plotly_dark',title_text='Top 20 Countries of total Recovered cases')\n",
    "fig.show()"
   ]
  },
  {
   "cell_type": "code",
   "execution_count": null,
   "metadata": {},
   "outputs": [],
   "source": [
    "labels=worldometer_df[0:15]['Country/Region'].values\n",
    "cases=['TotalCases','TotalDeaths','TotalRecovered','ActiveCases']\n",
    "for i in cases:\n",
    "    fig=px.pie(worldometer_df[0:15],values=i,names=labels,hole=0.3,title=\"{} recorded w.r.t to WHO region of 15 worst affecteced countries\".format(cases))\n",
    "    fig.show()"
   ]
  },
  {
   "cell_type": "code",
   "execution_count": null,
   "metadata": {},
   "outputs": [],
   "source": [
    "deaths_to_conf=worldometer_df['TotalDeaths']/worldometer_df['TotalCases']"
   ]
  },
  {
   "cell_type": "code",
   "execution_count": null,
   "metadata": {},
   "outputs": [],
   "source": [
    "px.bar(worldometer_df,x='Country/Region',y=deaths_to_conf,title='Deaths to confirmed cases ratio')"
   ]
  },
  {
   "cell_type": "code",
   "execution_count": null,
   "metadata": {},
   "outputs": [],
   "source": [
    "deaths_to_rec=worldometer_df['TotalDeaths']/worldometer_df['TotalRecovered']\n",
    "px.bar(worldometer_df,x='Country/Region',y=deaths_to_rec,title='Deaths to recovered cases ratio')"
   ]
  },
  {
   "cell_type": "code",
   "execution_count": null,
   "metadata": {},
   "outputs": [],
   "source": [
    "from plotly.subplots import make_subplots \n",
    "import plotly.graph_objects as go"
   ]
  },
  {
   "cell_type": "code",
   "execution_count": null,
   "metadata": {},
   "outputs": [],
   "source": [
    "def country_visualization(group_data,country):\n",
    "    \n",
    "    data=group_data[group_data['Country/Region']==country]\n",
    "    df=data.loc[:,['Date','Confirmed','Deaths','Recovered','Active']]\n",
    "    fig = make_subplots(rows=1, cols=4,subplot_titles=(\"Confirmed\", \"Active\", \"Recovered\",'Deaths'))\n",
    "    fig.add_trace(\n",
    "        go.Scatter(name=\"Confirmed\",x=df['Date'],y=df['Confirmed']),\n",
    "        row=1, col=1\n",
    "    )\n",
    "\n",
    "    fig.add_trace(\n",
    "        go.Scatter(name=\"Active\",x=df['Date'],y=df['Active']),\n",
    "        row=1, col=2\n",
    "    )\n",
    "    fig.add_trace(\n",
    "        go.Scatter(name=\"Recovered\",x=df['Date'],y=df['Recovered']),\n",
    "        row=1, col=3\n",
    "    )\n",
    "\n",
    "    fig.add_trace(\n",
    "        go.Scatter(name=\"Deaths\",x=df['Date'],y=df['Deaths']),\n",
    "        row=1, col=4\n",
    "    )\n",
    "\n",
    "    fig.update_layout(height=600, width=1000, title_text=\"Date Vs Recorded Cases of {}\".format(country),template=\"plotly_dark\")\n",
    "    fig.show()"
   ]
  },
  {
   "cell_type": "code",
   "execution_count": null,
   "metadata": {},
   "outputs": [],
   "source": [
    "country_visualization(group_data,'India')"
   ]
  },
  {
   "cell_type": "code",
   "execution_count": null,
   "metadata": {},
   "outputs": [],
   "source": []
  }
 ],
 "metadata": {
  "kernelspec": {
   "display_name": "Python 3",
   "language": "python",
   "name": "python3"
  },
  "language_info": {
   "codemirror_mode": {
    "name": "ipython",
    "version": 3
   },
   "file_extension": ".py",
   "mimetype": "text/x-python",
   "name": "python",
   "nbconvert_exporter": "python",
   "pygments_lexer": "ipython3",
   "version": "3.8.5"
  }
 },
 "nbformat": 4,
 "nbformat_minor": 4
}
